{
 "cells": [
  {
   "cell_type": "code",
   "execution_count": 12,
   "id": "4217d7c1-7c8d-47b9-829e-4856b00fdb6b",
   "metadata": {},
   "outputs": [],
   "source": [
    "import numpy as np\n",
    "import matplotlib.pyplot as plt\n",
    "import pandas as pd"
   ]
  },
  {
   "cell_type": "code",
   "execution_count": 13,
   "id": "f1ea222c-1fbf-4d9b-8652-87f590650f92",
   "metadata": {},
   "outputs": [],
   "source": [
    "input_lat = 0\n",
    "input_long = 0"
   ]
  },
  {
   "cell_type": "code",
   "execution_count": 14,
   "id": "c8784e5e-2a30-4c4a-bd1d-989f2717e929",
   "metadata": {},
   "outputs": [],
   "source": [
    "number_of_radial_points = 8"
   ]
  },
  {
   "cell_type": "code",
   "execution_count": 15,
   "id": "f4bd2381-4cb1-45ef-9b06-ce0a4bfb546c",
   "metadata": {},
   "outputs": [],
   "source": [
    "distance_from_school = 100"
   ]
  },
  {
   "cell_type": "markdown",
   "id": "4a9c77fa-c9b3-4f18-a3c3-bcaad5a48b4a",
   "metadata": {},
   "source": [
    "If your displacements aren't too great (less than a few kilometers) and you're not right at the poles, use the quick and dirty estimate that 111,111 meters (111.111 km) in the y direction is 1 degree (of latitude) and 111,111 * cos(latitude) meters in the x direction is 1 degree (of longitude)."
   ]
  },
  {
   "cell_type": "code",
   "execution_count": 16,
   "id": "9925af04-a0bf-4c27-b615-d54cb797717d",
   "metadata": {},
   "outputs": [],
   "source": [
    "metres_to_degrees_conversion_factor = 1.0/111319.5"
   ]
  },
  {
   "cell_type": "code",
   "execution_count": 17,
   "id": "295ac55b-dbcc-49a3-b42a-b2f69c641856",
   "metadata": {},
   "outputs": [],
   "source": [
    "def pol2cart(rho, phi):\n",
    "    \n",
    "    x = rho * np.cos(phi)\n",
    "    y = rho * np.sin(phi)    \n",
    "    \n",
    "    return x, y"
   ]
  },
  {
   "cell_type": "code",
   "execution_count": 18,
   "id": "45722a69-753c-4d66-b2d1-1a016fa6df8d",
   "metadata": {},
   "outputs": [],
   "source": [
    "angles_in_radians = np.linspace(0,2*np.pi,number_of_radial_points)"
   ]
  },
  {
   "cell_type": "code",
   "execution_count": 19,
   "id": "280fd77a-e69d-4e0d-aa9e-6d562503eea2",
   "metadata": {},
   "outputs": [],
   "source": [
    "x,y = pol2cart(distance_from_school,angles_in_radians)"
   ]
  },
  {
   "cell_type": "code",
   "execution_count": 20,
   "id": "7a2dff2a-5221-48dc-9518-c515055e7536",
   "metadata": {},
   "outputs": [],
   "source": [
    "df_vectors_metres = pd.DataFrame(zip(x,y),columns = ['lat','long'])"
   ]
  },
  {
   "cell_type": "code",
   "execution_count": 21,
   "id": "ae979f26-4632-4c01-b91e-dabf84786ff4",
   "metadata": {},
   "outputs": [],
   "source": [
    "df_vectors_degrees = df_vectors_metres * metres_to_degrees_conversion_factor"
   ]
  },
  {
   "cell_type": "code",
   "execution_count": null,
   "id": "521d8c7c-b881-4480-adf7-97cd6582f17a",
   "metadata": {},
   "outputs": [],
   "source": []
  }
 ],
 "metadata": {
  "kernelspec": {
   "display_name": "Python 3 (ipykernel)",
   "language": "python",
   "name": "python3"
  },
  "language_info": {
   "codemirror_mode": {
    "name": "ipython",
    "version": 3
   },
   "file_extension": ".py",
   "mimetype": "text/x-python",
   "name": "python",
   "nbconvert_exporter": "python",
   "pygments_lexer": "ipython3",
   "version": "3.9.13"
  }
 },
 "nbformat": 4,
 "nbformat_minor": 5
}
