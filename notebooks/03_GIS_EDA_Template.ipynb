{
 "cells": [
  {
   "cell_type": "markdown",
   "id": "8e1fdc38-826e-4dde-93fd-a56526f7c7d2",
   "metadata": {},
   "source": [
    "# GIS Data Exploration"
   ]
  },
  {
   "cell_type": "markdown",
   "id": "3012a012-49fc-4f4d-8f84-6385932a71a7",
   "metadata": {},
   "source": [
    "### Description\n",
    "\n",
    "\n",
    "\n",
    "### Files\n",
    "1. \n",
    "2.\n",
    "3.\n",
    "\n",
    "### Evaluation\n",
    "\n",
    "Evaluation Metric Template\n",
    "\n",
    "Submission File\n",
    "For each id in the test set, you must predict a probability a failure. The file should contain a header and have the following format:\n",
    "\n",
    "- id,failure\n",
    "- 26570,0.2\n",
    "- 26571,0.1\n",
    "- 26572,0.9\n",
    "- etc.\n",
    "\n",
    "### Important Points\n",
    "- Different prototypes tested for product failures\n",
    "- Given product attributes and measurement values, so only 2 types of attributes\n",
    "- The simulated test uses loading\n",
    "- You must predict individual product failures of new new codes with their lab test results"
   ]
  },
  {
   "cell_type": "markdown",
   "id": "2637b1fe-fb62-4fa5-86ce-2d807ee19921",
   "metadata": {},
   "source": [
    "## Package Importing"
   ]
  },
  {
   "cell_type": "code",
   "execution_count": 28,
   "id": "75e347cd-e2f8-4270-9b14-041e4028aab7",
   "metadata": {},
   "outputs": [],
   "source": [
    "# general python libraries\n",
    "import time\n",
    "import sys\n",
    "import datetime\n",
    "import math\n",
    "import numpy as np\n",
    "\n",
    "# dataframe and data manipulation library\n",
    "import pandas as pd\n",
    "\n",
    "# visualisation and EDA libraries\n",
    "import matplotlib.pyplot as  plt\n",
    "import seaborn as sns\n",
    "import popmon\n",
    "from popmon import resources\n",
    "from popmon.config import Report, Settings\n",
    "\n",
    "# GIS\n",
    "import geopandas as gpd\n",
    "from shapely.geometry import Point, Polygon"
   ]
  },
  {
   "cell_type": "code",
   "execution_count": 29,
   "id": "105b6b1c-5b78-4649-9548-8b94db3fddb8",
   "metadata": {},
   "outputs": [],
   "source": [
    "%matplotlib inline"
   ]
  },
  {
   "cell_type": "markdown",
   "id": "c4b13bab-9a46-4bb1-85d9-96fb9772c522",
   "metadata": {},
   "source": [
    "## Data Importing"
   ]
  },
  {
   "cell_type": "code",
   "execution_count": 30,
   "id": "a851cfe7-1f76-472a-9d3a-1d46b8daec9b",
   "metadata": {},
   "outputs": [],
   "source": [
    "# specify name of file\n",
    "dataset_name = 'airview_dublincity_measurements_ugm3'\n",
    "\n",
    "folder_path = f'../data/raw/{dataset_name}'\n",
    "shapefile_path = f'{folder_path}/{dataset_name}.shp'\n",
    "\n"
   ]
  },
  {
   "cell_type": "code",
   "execution_count": 31,
   "id": "0d604fce-41f7-4eb9-b42e-13fbbbd3ef68",
   "metadata": {},
   "outputs": [
    {
     "data": {
      "text/html": [
       "<div>\n",
       "<style scoped>\n",
       "    .dataframe tbody tr th:only-of-type {\n",
       "        vertical-align: middle;\n",
       "    }\n",
       "\n",
       "    .dataframe tbody tr th {\n",
       "        vertical-align: top;\n",
       "    }\n",
       "\n",
       "    .dataframe thead th {\n",
       "        text-align: right;\n",
       "    }\n",
       "</style>\n",
       "<table border=\"1\" class=\"dataframe\">\n",
       "  <thead>\n",
       "    <tr style=\"text-align: right;\">\n",
       "      <th></th>\n",
       "      <th>gps_timest</th>\n",
       "      <th>NO_ugm3</th>\n",
       "      <th>NO2_ugm3</th>\n",
       "      <th>O3_ugm3</th>\n",
       "      <th>CO_mgm3</th>\n",
       "      <th>CO2_mgm3</th>\n",
       "      <th>PMch1_perL</th>\n",
       "      <th>PMch2_perL</th>\n",
       "      <th>PMch3_perL</th>\n",
       "      <th>PMch4_perL</th>\n",
       "      <th>PMch5_perL</th>\n",
       "      <th>PMch6_perL</th>\n",
       "      <th>PM25_ugm3</th>\n",
       "      <th>geometry</th>\n",
       "    </tr>\n",
       "  </thead>\n",
       "  <tbody>\n",
       "    <tr>\n",
       "      <th>0</th>\n",
       "      <td>2022-04-07 14:56:36 UTC</td>\n",
       "      <td>-13.526</td>\n",
       "      <td>11.724</td>\n",
       "      <td>NaN</td>\n",
       "      <td>0.293</td>\n",
       "      <td>765.328</td>\n",
       "      <td>6240.0</td>\n",
       "      <td>1860.0</td>\n",
       "      <td>1380.0</td>\n",
       "      <td>480.0</td>\n",
       "      <td>60.0</td>\n",
       "      <td>120.0</td>\n",
       "      <td>4.927</td>\n",
       "      <td>POINT (-6.26400 53.34643)</td>\n",
       "    </tr>\n",
       "    <tr>\n",
       "      <th>1</th>\n",
       "      <td>2022-04-07 14:56:37 UTC</td>\n",
       "      <td>-29.957</td>\n",
       "      <td>4.441</td>\n",
       "      <td>NaN</td>\n",
       "      <td>0.291</td>\n",
       "      <td>NaN</td>\n",
       "      <td>4800.0</td>\n",
       "      <td>1380.0</td>\n",
       "      <td>1020.0</td>\n",
       "      <td>240.0</td>\n",
       "      <td>240.0</td>\n",
       "      <td>60.0</td>\n",
       "      <td>4.240</td>\n",
       "      <td>POINT (-6.26400 53.34643)</td>\n",
       "    </tr>\n",
       "    <tr>\n",
       "      <th>2</th>\n",
       "      <td>2022-04-07 14:56:38 UTC</td>\n",
       "      <td>-9.260</td>\n",
       "      <td>8.725</td>\n",
       "      <td>59.109</td>\n",
       "      <td>0.299</td>\n",
       "      <td>NaN</td>\n",
       "      <td>6300.0</td>\n",
       "      <td>1800.0</td>\n",
       "      <td>1140.0</td>\n",
       "      <td>600.0</td>\n",
       "      <td>60.0</td>\n",
       "      <td>60.0</td>\n",
       "      <td>4.204</td>\n",
       "      <td>POINT (-6.26400 53.34643)</td>\n",
       "    </tr>\n",
       "    <tr>\n",
       "      <th>3</th>\n",
       "      <td>2022-04-07 14:56:39 UTC</td>\n",
       "      <td>-22.847</td>\n",
       "      <td>7.023</td>\n",
       "      <td>NaN</td>\n",
       "      <td>0.295</td>\n",
       "      <td>NaN</td>\n",
       "      <td>5040.0</td>\n",
       "      <td>1800.0</td>\n",
       "      <td>1080.0</td>\n",
       "      <td>300.0</td>\n",
       "      <td>60.0</td>\n",
       "      <td>60.0</td>\n",
       "      <td>3.410</td>\n",
       "      <td>POINT (-6.26400 53.34643)</td>\n",
       "    </tr>\n",
       "    <tr>\n",
       "      <th>4</th>\n",
       "      <td>2022-04-07 14:56:40 UTC</td>\n",
       "      <td>-9.225</td>\n",
       "      <td>15.591</td>\n",
       "      <td>NaN</td>\n",
       "      <td>0.296</td>\n",
       "      <td>763.271</td>\n",
       "      <td>5580.0</td>\n",
       "      <td>1920.0</td>\n",
       "      <td>1260.0</td>\n",
       "      <td>480.0</td>\n",
       "      <td>60.0</td>\n",
       "      <td>60.0</td>\n",
       "      <td>4.003</td>\n",
       "      <td>POINT (-6.26400 53.34643)</td>\n",
       "    </tr>\n",
       "  </tbody>\n",
       "</table>\n",
       "</div>"
      ],
      "text/plain": [
       "                gps_timest  NO_ugm3  NO2_ugm3  O3_ugm3  CO_mgm3  CO2_mgm3  \\\n",
       "0  2022-04-07 14:56:36 UTC  -13.526    11.724      NaN    0.293   765.328   \n",
       "1  2022-04-07 14:56:37 UTC  -29.957     4.441      NaN    0.291       NaN   \n",
       "2  2022-04-07 14:56:38 UTC   -9.260     8.725   59.109    0.299       NaN   \n",
       "3  2022-04-07 14:56:39 UTC  -22.847     7.023      NaN    0.295       NaN   \n",
       "4  2022-04-07 14:56:40 UTC   -9.225    15.591      NaN    0.296   763.271   \n",
       "\n",
       "   PMch1_perL  PMch2_perL  PMch3_perL  PMch4_perL  PMch5_perL  PMch6_perL  \\\n",
       "0      6240.0      1860.0      1380.0       480.0        60.0       120.0   \n",
       "1      4800.0      1380.0      1020.0       240.0       240.0        60.0   \n",
       "2      6300.0      1800.0      1140.0       600.0        60.0        60.0   \n",
       "3      5040.0      1800.0      1080.0       300.0        60.0        60.0   \n",
       "4      5580.0      1920.0      1260.0       480.0        60.0        60.0   \n",
       "\n",
       "   PM25_ugm3                   geometry  \n",
       "0      4.927  POINT (-6.26400 53.34643)  \n",
       "1      4.240  POINT (-6.26400 53.34643)  \n",
       "2      4.204  POINT (-6.26400 53.34643)  \n",
       "3      3.410  POINT (-6.26400 53.34643)  \n",
       "4      4.003  POINT (-6.26400 53.34643)  "
      ]
     },
     "execution_count": 31,
     "metadata": {},
     "output_type": "execute_result"
    }
   ],
   "source": [
    "# read in shapefile\n",
    "gdf = gpd.read_file(shapefile_path, rows = 10000)\n",
    "gdf.head(5)"
   ]
  },
  {
   "cell_type": "markdown",
   "id": "0bc979d8-e1e6-4100-a583-7629d84e7b3b",
   "metadata": {
    "tags": []
   },
   "source": [
    "## Dataset Summaries and Heads"
   ]
  },
  {
   "cell_type": "code",
   "execution_count": 32,
   "id": "6402df72-9b00-4333-8f0b-a40f159af9e6",
   "metadata": {
    "tags": []
   },
   "outputs": [
    {
     "name": "stdout",
     "output_type": "stream",
     "text": [
      "Number of rows in train data:    \t 10000\n",
      "Number of columns in train data: \t 14\n"
     ]
    }
   ],
   "source": [
    "print(\"Number of rows in train data:    \\t\",gdf.shape[0])\n",
    "print(\"Number of columns in train data: \\t\",gdf.shape[1])"
   ]
  },
  {
   "cell_type": "code",
   "execution_count": 33,
   "id": "1c072643-bcda-41c7-a2d5-91f632f46018",
   "metadata": {},
   "outputs": [
    {
     "name": "stdout",
     "output_type": "stream",
     "text": [
      "float64     12\n",
      "object       1\n",
      "geometry     1\n",
      "dtype: int64\n"
     ]
    }
   ],
   "source": [
    "# check datatypes of columns\n",
    "print(gdf.dtypes.value_counts())"
   ]
  },
  {
   "cell_type": "code",
   "execution_count": 34,
   "id": "8b082bcb-5dcd-4ee8-b35a-44dd40cdbb0b",
   "metadata": {},
   "outputs": [
    {
     "name": "stdout",
     "output_type": "stream",
     "text": [
      "non-numeric column categories based on data from  10000 rows\n"
     ]
    },
    {
     "data": {
      "image/png": "[encoded data removed]",
      "text/plain": [
       "<Figure size 1000x1500 with 1 Axes>"
      ]
     },
     "metadata": {},
     "output_type": "display_data"
    }
   ],
   "source": [
    "# save names of categorical columns\n",
    "numeric_cols = gdf.dtypes[gdf.dtypes != \"object\"].index\n",
    "cat_cols = gdf.dtypes[gdf.dtypes == \"object\"].index\n",
    "\n",
    "# view cardinalitites of categorical columns\n",
    "print('non-numeric column categories based on data from ', gdf.shape[0],'rows')\n",
    "\n",
    "cat_name = []\n",
    "nunique_vals = []\n",
    "for i in cat_cols:\n",
    "    cat_name.append(i)\n",
    "    nunique_vals.append(gdf.loc[:,i].nunique())\n",
    "\n",
    "cat_counts = pd.Series(data=nunique_vals,index=cat_name).sort_values(ascending = False)\n",
    "\n",
    "fig = plt.figure(figsize=(10,15))\n",
    "ax = sns.barplot(y = cat_counts.index, x = cat_counts, orient='h')"
   ]
  },
  {
   "cell_type": "code",
   "execution_count": 36,
   "id": "c9713b7e-ab43-4989-9e59-67c6732e3996",
   "metadata": {},
   "outputs": [
    {
     "data": {
      "text/html": [
       "<div>\n",
       "<style scoped>\n",
       "    .dataframe tbody tr th:only-of-type {\n",
       "        vertical-align: middle;\n",
       "    }\n",
       "\n",
       "    .dataframe tbody tr th {\n",
       "        vertical-align: top;\n",
       "    }\n",
       "\n",
       "    .dataframe thead th {\n",
       "        text-align: right;\n",
       "    }\n",
       "</style>\n",
       "<table border=\"1\" class=\"dataframe\">\n",
       "  <thead>\n",
       "    <tr style=\"text-align: right;\">\n",
       "      <th></th>\n",
       "      <th>Total</th>\n",
       "      <th>Percent</th>\n",
       "    </tr>\n",
       "  </thead>\n",
       "  <tbody>\n",
       "    <tr>\n",
       "      <th>O3_ugm3</th>\n",
       "      <td>6455</td>\n",
       "      <td>64.55</td>\n",
       "    </tr>\n",
       "    <tr>\n",
       "      <th>CO2_mgm3</th>\n",
       "      <td>1712</td>\n",
       "      <td>17.12</td>\n",
       "    </tr>\n",
       "    <tr>\n",
       "      <th>NO2_ugm3</th>\n",
       "      <td>529</td>\n",
       "      <td>5.29</td>\n",
       "    </tr>\n",
       "    <tr>\n",
       "      <th>NO_ugm3</th>\n",
       "      <td>499</td>\n",
       "      <td>4.99</td>\n",
       "    </tr>\n",
       "    <tr>\n",
       "      <th>CO_mgm3</th>\n",
       "      <td>484</td>\n",
       "      <td>4.84</td>\n",
       "    </tr>\n",
       "    <tr>\n",
       "      <th>PMch1_perL</th>\n",
       "      <td>93</td>\n",
       "      <td>0.93</td>\n",
       "    </tr>\n",
       "    <tr>\n",
       "      <th>PMch2_perL</th>\n",
       "      <td>93</td>\n",
       "      <td>0.93</td>\n",
       "    </tr>\n",
       "    <tr>\n",
       "      <th>PMch3_perL</th>\n",
       "      <td>93</td>\n",
       "      <td>0.93</td>\n",
       "    </tr>\n",
       "    <tr>\n",
       "      <th>PMch4_perL</th>\n",
       "      <td>93</td>\n",
       "      <td>0.93</td>\n",
       "    </tr>\n",
       "    <tr>\n",
       "      <th>PMch5_perL</th>\n",
       "      <td>93</td>\n",
       "      <td>0.93</td>\n",
       "    </tr>\n",
       "    <tr>\n",
       "      <th>PMch6_perL</th>\n",
       "      <td>93</td>\n",
       "      <td>0.93</td>\n",
       "    </tr>\n",
       "    <tr>\n",
       "      <th>PM25_ugm3</th>\n",
       "      <td>93</td>\n",
       "      <td>0.93</td>\n",
       "    </tr>\n",
       "    <tr>\n",
       "      <th>gps_timest</th>\n",
       "      <td>0</td>\n",
       "      <td>0.00</td>\n",
       "    </tr>\n",
       "    <tr>\n",
       "      <th>geometry</th>\n",
       "      <td>0</td>\n",
       "      <td>0.00</td>\n",
       "    </tr>\n",
       "  </tbody>\n",
       "</table>\n",
       "</div>"
      ],
      "text/plain": [
       "            Total  Percent\n",
       "O3_ugm3      6455    64.55\n",
       "CO2_mgm3     1712    17.12\n",
       "NO2_ugm3      529     5.29\n",
       "NO_ugm3       499     4.99\n",
       "CO_mgm3       484     4.84\n",
       "PMch1_perL     93     0.93\n",
       "PMch2_perL     93     0.93\n",
       "PMch3_perL     93     0.93\n",
       "PMch4_perL     93     0.93\n",
       "PMch5_perL     93     0.93\n",
       "PMch6_perL     93     0.93\n",
       "PM25_ugm3      93     0.93\n",
       "gps_timest      0     0.00\n",
       "geometry        0     0.00"
      ]
     },
     "execution_count": 36,
     "metadata": {},
     "output_type": "execute_result"
    }
   ],
   "source": [
    "# checking missing data\n",
    "total = gdf.isnull().sum().sort_values(ascending = False)\n",
    "percent = (gdf.isnull().sum()/gdf.isnull().count()*100).sort_values(ascending = False)\n",
    "missing_gdf  = pd.concat([total, percent], axis=1, keys=['Total', 'Percent'])\n",
    "missing_gdf"
   ]
  },
  {
   "cell_type": "markdown",
   "id": "bdca3287-957f-45ce-bc82-ad734e002661",
   "metadata": {},
   "source": [
    "## Distributional drift and comparisons"
   ]
  },
  {
   "cell_type": "code",
   "execution_count": 37,
   "id": "bcfbd3e9-71c9-4d41-b4f5-fe2b4d3b4c30",
   "metadata": {},
   "outputs": [
    {
     "data": {
      "text/plain": [
       "Index(['gps_timest', 'NO_ugm3', 'NO2_ugm3', 'O3_ugm3', 'CO_mgm3', 'CO2_mgm3',\n",
       "       'PMch1_perL', 'PMch2_perL', 'PMch3_perL', 'PMch4_perL', 'PMch5_perL',\n",
       "       'PMch6_perL', 'PM25_ugm3', 'geometry'],\n",
       "      dtype='object')"
      ]
     },
     "execution_count": 37,
     "metadata": {},
     "output_type": "execute_result"
    }
   ],
   "source": [
    "gdf.columns"
   ]
  },
  {
   "cell_type": "markdown",
   "id": "f2bd33fc-6373-4036-86cb-955f3350ac5f",
   "metadata": {},
   "source": [
    "each of the products could have very different behaviours and be from different populations. And so it may make sense to look at each on of these individually"
   ]
  },
  {
   "cell_type": "markdown",
   "id": "0ec37804-858b-4d55-9808-4c410e5c4144",
   "metadata": {
    "tags": []
   },
   "source": [
    "## Static Profiling"
   ]
  },
  {
   "cell_type": "code",
   "execution_count": 12,
   "id": "cd0364fd-3e82-4454-b836-132f61078c16",
   "metadata": {},
   "outputs": [],
   "source": [
    "# sample data if required if reports too big\n",
    "train_sample = gdf.sample(10000)\n",
    "\n",
    "# drop id column\n",
    "train_sample.drop('id',axis = 1, inplace=True)\n",
    "\n",
    "# drop index or else that will also be profiled\n",
    "train_sample.reset_index(drop=True, inplace=True)"
   ]
  },
  {
   "cell_type": "code",
   "execution_count": 13,
   "id": "13289cc9-7726-4b1b-b7ca-42a44c7367a9",
   "metadata": {},
   "outputs": [
    {
     "data": {
      "application/vnd.jupyter.widget-view+json": {
       "model_id": "93920ddcab1a47f2b917d8b2ec60f5ee",
       "version_major": 2,
       "version_minor": 0
      },
      "text/plain": [
       "Summarize dataset:   0%|          | 0/5 [00:00<?, ?it/s]"
      ]
     },
     "metadata": {},
     "output_type": "display_data"
    },
    {
     "data": {
      "application/vnd.jupyter.widget-view+json": {
       "model_id": "ae71f13a92c1452eaf554650d28601fc",
       "version_major": 2,
       "version_minor": 0
      },
      "text/plain": [
       "Generate report structure:   0%|          | 0/1 [00:00<?, ?it/s]"
      ]
     },
     "metadata": {},
     "output_type": "display_data"
    },
    {
     "data": {
      "application/vnd.jupyter.widget-view+json": {
       "model_id": "a14145b8ca1b43f8a2621f82db291e5c",
       "version_major": 2,
       "version_minor": 0
      },
      "text/plain": [
       "Render HTML:   0%|          | 0/1 [00:00<?, ?it/s]"
      ]
     },
     "metadata": {},
     "output_type": "display_data"
    },
    {
     "data": {
      "application/vnd.jupyter.widget-view+json": {
       "model_id": "dcda87a7363f43cbbbe4c94f8020ee86",
       "version_major": 2,
       "version_minor": 0
      },
      "text/plain": [
       "Export report to file:   0%|          | 0/1 [00:00<?, ?it/s]"
      ]
     },
     "metadata": {},
     "output_type": "display_data"
    }
   ],
   "source": [
    "# create minimal report in reports\n",
    "minimal_report = gdf.profile_report(title=\"Minimal Report\",minimal=True)\n",
    "minimal_report.to_file(\"../reports/pp_eda_minimal.html\")\n",
    "#minimal_report.to_notebook_iframe()"
   ]
  },
  {
   "cell_type": "code",
   "execution_count": 14,
   "id": "e79a7647-1c18-4d60-b203-d3b1822bbebf",
   "metadata": {},
   "outputs": [
    {
     "data": {
      "application/vnd.jupyter.widget-view+json": {
       "model_id": "b0af51b11e324702b822d1e88961096a",
       "version_major": 2,
       "version_minor": 0
      },
      "text/plain": [
       "Summarize dataset:   0%|          | 0/5 [00:00<?, ?it/s]"
      ]
     },
     "metadata": {},
     "output_type": "display_data"
    },
    {
     "data": {
      "application/vnd.jupyter.widget-view+json": {
       "model_id": "0cce1f22a0d74407a50651ac50a8cc74",
       "version_major": 2,
       "version_minor": 0
      },
      "text/plain": [
       "Generate report structure:   0%|          | 0/1 [00:00<?, ?it/s]"
      ]
     },
     "metadata": {},
     "output_type": "display_data"
    },
    {
     "data": {
      "application/vnd.jupyter.widget-view+json": {
       "model_id": "5c3d091b7884480da95ff621687164bb",
       "version_major": 2,
       "version_minor": 0
      },
      "text/plain": [
       "Render HTML:   0%|          | 0/1 [00:00<?, ?it/s]"
      ]
     },
     "metadata": {},
     "output_type": "display_data"
    },
    {
     "data": {
      "application/vnd.jupyter.widget-view+json": {
       "model_id": "c09ce175110a44679c0093362b01f0a7",
       "version_major": 2,
       "version_minor": 0
      },
      "text/plain": [
       "Export report to file:   0%|          | 0/1 [00:00<?, ?it/s]"
      ]
     },
     "metadata": {},
     "output_type": "display_data"
    }
   ],
   "source": [
    "# set of parameters to create customer report\n",
    "gdf.profile_report(\n",
    "    title=\"Custom Report\",\n",
    "    # create missing/null value diagrams\n",
    "    # disable if no missing values\n",
    "    missing_diagrams={\n",
    "        \"heatmap\": True,\n",
    "        \"dendrogram\": True,\n",
    "        \"bar\": True,\n",
    "        \"matrix\":True\n",
    "    # create all correlation plots\n",
    "    # the correlations and interactions come together\n",
    "    # the correlations section dictates which corrs will be run\n",
    "    # the interactions dicatates which variables\n",
    "    },correlations={\n",
    "        # strength and directional\n",
    "        # continuous vars, linear, sensitive to outliers, normal dist\n",
    "        \"pearson\": {\"calculate\": True},\n",
    "        # strength and directional\n",
    "        # categorical or quant, linear, no outliers\n",
    "        \"spearman\": {\"calculate\": False},\n",
    "        # 0-1\n",
    "        # dependence of 2 vars.\n",
    "        \"kendall\": {\"calculate\": True},\n",
    "        # no direction, categorical, ordinal, interval\n",
    "        # non-linear dependency\n",
    "        # computationally expensive\n",
    "        \"phi_k\": {\"calculate\": True}, # this one is one of the most intensive ones\n",
    "        # compares 2 categorical vars\n",
    "        # based on chi-squared test stat\n",
    "        # sensitive to outlies\n",
    "        \"cramers\": {\"calculate\": True}\n",
    "    },interactions = {\n",
    "        # this generates 2d scatter, this will cause crash if too many variables\n",
    "        \"continuous\": False\n",
    "        # comment continouous out and put in \n",
    "        # target var to see scatter between\n",
    "        # only these values and all other\n",
    "        # values\n",
    "        #\"targets\": ['target']\n",
    "    },html = {\n",
    "        \"style\": {\"theme\":\"flatly\"}\n",
    "    }\n",
    "    \n",
    "    \n",
    ").to_file(\"../reports/pp_eda_custom.html\")"
   ]
  },
  {
   "cell_type": "markdown",
   "id": "4566be91-7eeb-4e09-ae0f-840aeacdeff7",
   "metadata": {},
   "source": [
    "## Data Cleaning\n",
    "\n",
    "Creation of data cleaning function to;\n",
    "- Impute NULL Values\n",
    "- Parse Multi-part string columns\n",
    "- Drop columns\n",
    "- Encode categorical variables\n",
    "- Normalise or scale columns"
   ]
  },
  {
   "cell_type": "code",
   "execution_count": 15,
   "id": "f19d62ae-26d3-4401-a3be-b72d8097a99a",
   "metadata": {},
   "outputs": [
    {
     "name": "stdout",
     "output_type": "stream",
     "text": [
      "missing values present: 0\n",
      "categorical columns present: 0\n"
     ]
    }
   ],
   "source": [
    "def Preprocessing(df):\n",
    "    \n",
    "    df = pd.get_dummies(df) # convert all categorical variables to dummy variables\n",
    "    \n",
    "    df = df.dropna(\n",
    "        # axis = 1 # default both axes, comment out for only 1 axis\n",
    "    ) # remvoe all na rows or columns\n",
    "    \n",
    "    return df\n",
    "\n",
    "gdf_cleaned = Preprocessing(gdf)\n",
    "\n",
    "print(\"missing values present:\",gdf_cleaned.isna().sum().sum())\n",
    "print(\"categorical columns present:\",gdf_cleaned.dtypes[gdf_cleaned.dtypes == \"object\"].count())\n",
    "\n"
   ]
  },
  {
   "cell_type": "markdown",
   "id": "f6fc92bf-099e-4fcf-8c92-82512ff2c6df",
   "metadata": {},
   "source": [
    "## Model fitting\n",
    "\n",
    "### Train Test Split\n",
    "\n",
    "Splitting data into groupings for model fitting"
   ]
  },
  {
   "cell_type": "code",
   "execution_count": 16,
   "id": "70b6b3d1-07f5-4e68-9a04-5939636048b0",
   "metadata": {},
   "outputs": [
    {
     "name": "stdout",
     "output_type": "stream",
     "text": [
      "Shape of X_train data:    \t (9746, 31)\n",
      "Shape of X_test data:    \t (2437, 31)\n",
      "Shape of y_train data:    \t (9746,)\n",
      "Shape of y_test data:    \t (2437,)\n"
     ]
    }
   ],
   "source": [
    "X_train, X_test, y_train, y_test = train_test_split(\n",
    "    gdf_cleaned.drop(['id','failure'], axis = 1), # X data excluding target variable and any irrelevant id columns\n",
    "    gdf_cleaned.loc[:,'failure'],\n",
    "    test_size = 0.2, # 0.2 is a good accepted starting point, with larger data this number can be decreased\n",
    "    random_state = 42, # random seed, default 42\n",
    "    shuffle = True # default true, check whether there is population drift over time in default order\n",
    ")\n",
    "\n",
    "print(\"Shape of X_train data:    \\t\",X_train.shape)\n",
    "print(\"Shape of X_test data:    \\t\",X_test.shape)\n",
    "print(\"Shape of y_train data:    \\t\",y_train.shape)\n",
    "print(\"Shape of y_test data:    \\t\",y_test.shape)"
   ]
  },
  {
   "cell_type": "markdown",
   "id": "ace5b3f6-9e24-4811-8cb4-cca251702b29",
   "metadata": {},
   "source": [
    "### Linear Regression"
   ]
  },
  {
   "cell_type": "code",
   "execution_count": 17,
   "id": "9805d043-32ce-4d44-888d-93208a41893f",
   "metadata": {},
   "outputs": [],
   "source": [
    "from sklearn.linear_model import LinearRegression\n",
    "# help(LinearRegression)"
   ]
  },
  {
   "cell_type": "code",
   "execution_count": 18,
   "id": "f91b6f0f-56a1-4e4c-87a8-b87c006d59a5",
   "metadata": {},
   "outputs": [],
   "source": [
    "# initialise new linear regression object model\n",
    "model = LinearRegression()"
   ]
  },
  {
   "cell_type": "code",
   "execution_count": 19,
   "id": "1cad8136-9947-4d5d-83ca-0ad7c3f4bdc5",
   "metadata": {},
   "outputs": [
    {
     "data": {
      "text/html": [
       "<style>#sk-container-id-1 {color: black;background-color: white;}#sk-container-id-1 pre{padding: 0;}#sk-container-id-1 div.sk-toggleable {background-color: white;}#sk-container-id-1 label.sk-toggleable__label {cursor: pointer;display: block;width: 100%;margin-bottom: 0;padding: 0.3em;box-sizing: border-box;text-align: center;}#sk-container-id-1 label.sk-toggleable__label-arrow:before {content: \"▸\";float: left;margin-right: 0.25em;color: #696969;}#sk-container-id-1 label.sk-toggleable__label-arrow:hover:before {color: black;}#sk-container-id-1 div.sk-estimator:hover label.sk-toggleable__label-arrow:before {color: black;}#sk-container-id-1 div.sk-toggleable__content {max-height: 0;max-width: 0;overflow: hidden;text-align: left;background-color: #f0f8ff;}#sk-container-id-1 div.sk-toggleable__content pre {margin: 0.2em;color: black;border-radius: 0.25em;background-color: #f0f8ff;}#sk-container-id-1 input.sk-toggleable__control:checked~div.sk-toggleable__content {max-height: 200px;max-width: 100%;overflow: auto;}#sk-container-id-1 input.sk-toggleable__control:checked~label.sk-toggleable__label-arrow:before {content: \"▾\";}#sk-container-id-1 div.sk-estimator input.sk-toggleable__control:checked~label.sk-toggleable__label {background-color: #d4ebff;}#sk-container-id-1 div.sk-label input.sk-toggleable__control:checked~label.sk-toggleable__label {background-color: #d4ebff;}#sk-container-id-1 input.sk-hidden--visually {border: 0;clip: rect(1px 1px 1px 1px);clip: rect(1px, 1px, 1px, 1px);height: 1px;margin: -1px;overflow: hidden;padding: 0;position: absolute;width: 1px;}#sk-container-id-1 div.sk-estimator {font-family: monospace;background-color: #f0f8ff;border: 1px dotted black;border-radius: 0.25em;box-sizing: border-box;margin-bottom: 0.5em;}#sk-container-id-1 div.sk-estimator:hover {background-color: #d4ebff;}#sk-container-id-1 div.sk-parallel-item::after {content: \"\";width: 100%;border-bottom: 1px solid gray;flex-grow: 1;}#sk-container-id-1 div.sk-label:hover label.sk-toggleable__label {background-color: #d4ebff;}#sk-container-id-1 div.sk-serial::before {content: \"\";position: absolute;border-left: 1px solid gray;box-sizing: border-box;top: 0;bottom: 0;left: 50%;z-index: 0;}#sk-container-id-1 div.sk-serial {display: flex;flex-direction: column;align-items: center;background-color: white;padding-right: 0.2em;padding-left: 0.2em;position: relative;}#sk-container-id-1 div.sk-item {position: relative;z-index: 1;}#sk-container-id-1 div.sk-parallel {display: flex;align-items: stretch;justify-content: center;background-color: white;position: relative;}#sk-container-id-1 div.sk-item::before, #sk-container-id-1 div.sk-parallel-item::before {content: \"\";position: absolute;border-left: 1px solid gray;box-sizing: border-box;top: 0;bottom: 0;left: 50%;z-index: -1;}#sk-container-id-1 div.sk-parallel-item {display: flex;flex-direction: column;z-index: 1;position: relative;background-color: white;}#sk-container-id-1 div.sk-parallel-item:first-child::after {align-self: flex-end;width: 50%;}#sk-container-id-1 div.sk-parallel-item:last-child::after {align-self: flex-start;width: 50%;}#sk-container-id-1 div.sk-parallel-item:only-child::after {width: 0;}#sk-container-id-1 div.sk-dashed-wrapped {border: 1px dashed gray;margin: 0 0.4em 0.5em 0.4em;box-sizing: border-box;padding-bottom: 0.4em;background-color: white;}#sk-container-id-1 div.sk-label label {font-family: monospace;font-weight: bold;display: inline-block;line-height: 1.2em;}#sk-container-id-1 div.sk-label-container {text-align: center;}#sk-container-id-1 div.sk-container {/* jupyter's `normalize.less` sets `[hidden] { display: none; }` but bootstrap.min.css set `[hidden] { display: none !important; }` so we also need the `!important` here to be able to override the default hidden behavior on the sphinx rendered scikit-learn.org. See: https://github.com/scikit-learn/scikit-learn/issues/21755 */display: inline-block !important;position: relative;}#sk-container-id-1 div.sk-text-repr-fallback {display: none;}</style><div id=\"sk-container-id-1\" class=\"sk-top-container\"><div class=\"sk-text-repr-fallback\"><pre>LinearRegression()</pre><b>In a Jupyter environment, please rerun this cell to show the HTML representation or trust the notebook. <br />On GitHub, the HTML representation is unable to render, please try loading this page with nbviewer.org.</b></div><div class=\"sk-container\" hidden><div class=\"sk-item\"><div class=\"sk-estimator sk-toggleable\"><input class=\"sk-toggleable__control sk-hidden--visually\" id=\"sk-estimator-id-1\" type=\"checkbox\" checked><label for=\"sk-estimator-id-1\" class=\"sk-toggleable__label sk-toggleable__label-arrow\">LinearRegression</label><div class=\"sk-toggleable__content\"><pre>LinearRegression()</pre></div></div></div></div></div>"
      ],
      "text/plain": [
       "LinearRegression()"
      ]
     },
     "execution_count": 19,
     "metadata": {},
     "output_type": "execute_result"
    }
   ],
   "source": [
    "# Fir regression model\n",
    "model.fit(X_train, y_train)"
   ]
  },
  {
   "cell_type": "code",
   "execution_count": 20,
   "id": "c2107a6e-0240-43aa-8104-c5936501135f",
   "metadata": {},
   "outputs": [],
   "source": [
    "# predict values on test set\n",
    "test_preds = model.predict(X_test)"
   ]
  },
  {
   "cell_type": "code",
   "execution_count": null,
   "id": "155d6326-be29-48cf-b56a-5920b1590974",
   "metadata": {},
   "outputs": [],
   "source": [
    "test_residuals = y_test - test_preds\n",
    "\n",
    "# ideally this is normal\n",
    "sns.scatterplot(x=y_test,y=test_residuals)\n",
    "plt.axhline(y=0,color='r',ls='--')"
   ]
  },
  {
   "cell_type": "code",
   "execution_count": null,
   "id": "4bbf8623-5faf-4b24-83b5-4bf79877bdf4",
   "metadata": {},
   "outputs": [],
   "source": [
    "# these coeffients will be in different units\n",
    "model.coef_"
   ]
  },
  {
   "cell_type": "code",
   "execution_count": null,
   "id": "351a04cb-b7e3-444e-8eb7-0d2fb1e2be3d",
   "metadata": {},
   "outputs": [],
   "source": [
    "from joblib import dump, load\n",
    "dump(model,'../models/linear_regression_model.joblib')"
   ]
  }
 ],
 "metadata": {
  "kernelspec": {
   "display_name": "Python 3 (ipykernel)",
   "language": "python",
   "name": "python3"
  },
  "language_info": {
   "codemirror_mode": {
    "name": "ipython",
    "version": 3
   },
   "file_extension": ".py",
   "mimetype": "text/x-python",
   "name": "python",
   "nbconvert_exporter": "python",
   "pygments_lexer": "ipython3",
   "version": "3.9.13"
  }
 },
 "nbformat": 4,
 "nbformat_minor": 5
}
